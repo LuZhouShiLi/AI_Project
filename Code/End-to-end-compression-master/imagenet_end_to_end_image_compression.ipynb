{
  "cells": [
    {
      "cell_type": "markdown",
      "metadata": {
        "colab_type": "text",
        "id": "view-in-github"
      },
      "source": [
        "<a href=\"https://colab.research.google.com/github/kunalrdeshmukh/End-to-end-compression/blob/master/imagenet_end_to_end_image_compression.ipynb\" target=\"_parent\"><img src=\"https://colab.research.google.com/assets/colab-badge.svg\" alt=\"Open In Colab\"/></a>"
      ]
    },
    {
      "cell_type": "markdown",
      "metadata": {
        "colab_type": "text",
        "id": "SA29G6TcgrZz"
      },
      "source": [
        "Image Compression framework :\n",
        "\n",
        "[End to end image compression framework ](https://ieeexplore.ieee.org/stamp/stamp.jsp?arnumber=7999241)"
      ]
    },
    {
      "cell_type": "code",
      "execution_count": 1,
      "metadata": {
        "colab": {
          "base_uri": "https://localhost:8080/",
          "height": 343
        },
        "colab_type": "code",
        "id": "D98I4TsNVy2W",
        "outputId": "2cec2b78-7295-4e54-b8a1-b6f34e72fbef"
      },
      "outputs": [
        {
          "name": "stderr",
          "output_type": "stream",
          "text": [
            "d:\\Application\\Anaconda\\lib\\site-packages\\wheel\\pep425tags.py:83: RuntimeWarning: Config variable 'Py_DEBUG' is unset, Python ABI tag may be incorrect\n",
            "  warn=(impl == 'cp')):\n",
            "d:\\Application\\Anaconda\\lib\\site-packages\\wheel\\pep425tags.py:88: RuntimeWarning: Config variable 'WITH_PYMALLOC' is unset, Python ABI tag may be incorrect\n",
            "  sys.version_info < (3, 8))) \\\n",
            "WARNING: Ignoring invalid distribution -umpy (d:\\application\\anaconda\\lib\\site-packages)\n",
            "WARNING: Ignoring invalid distribution -ip (d:\\application\\anaconda\\lib\\site-packages)\n",
            "WARNING: Ignoring invalid distribution -umpy (d:\\application\\anaconda\\lib\\site-packages)\n",
            "WARNING: Ignoring invalid distribution -ip (d:\\application\\anaconda\\lib\\site-packages)\n",
            "ERROR: torch-0.4.1-cp37-cp37m-linux_x86_64.whl is not a supported wheel on this platform.\n",
            "WARNING: Ignoring invalid distribution -umpy (d:\\application\\anaconda\\lib\\site-packages)\n",
            "WARNING: Ignoring invalid distribution -ip (d:\\application\\anaconda\\lib\\site-packages)\n",
            "WARNING: Ignoring invalid distribution -umpy (d:\\application\\anaconda\\lib\\site-packages)\n",
            "WARNING: Ignoring invalid distribution -ip (d:\\application\\anaconda\\lib\\site-packages)\n",
            "WARNING: Ignoring invalid distribution -umpy (d:\\application\\anaconda\\lib\\site-packages)\n",
            "WARNING: Ignoring invalid distribution -ip (d:\\application\\anaconda\\lib\\site-packages)\n",
            "d:\\Application\\Anaconda\\lib\\site-packages\\torchvision\\io\\image.py:13: UserWarning: Failed to load image Python extension: \n",
            "  warn(f\"Failed to load image Python extension: {e}\")\n"
          ]
        }
      ],
      "source": [
        "# http://pytorch.org/\n",
        "from os.path import exists\n",
        "from wheel.pep425tags import get_abbr_impl, get_impl_ver, get_abi_tag\n",
        "platform = '{}{}-{}'.format(get_abbr_impl(), get_impl_ver(), get_abi_tag())\n",
        "cuda_output = !ldconfig -p|grep cudart.so|sed -e 's/.*\\.\\([0-9]*\\)\\.\\([0-9]*\\)$/cu\\1\\2/'\n",
        "accelerator = cuda_output[0] if exists('/dev/nvidia0') else 'cpu'\n",
        "\n",
        "!pip install -q http://download.pytorch.org/whl/{accelerator}/torch-0.4.1-{platform}-linux_x86_64.whl torchvision\n",
        "import torch\n",
        "\n",
        "import os\n",
        "import datetime\n",
        "import torch\n",
        "import torchvision\n",
        "from torch import nn , optim\n",
        "from torchvision import datasets, transforms\n",
        "from torch.autograd import Variable\n",
        "\n",
        "!pip install Pillow==4.0.0\n",
        "!pip install PIL\n",
        "!pip install image\n",
        "!pip install lmdb\n",
        "from PIL import Image"
      ]
    },
    {
      "cell_type": "code",
      "execution_count": null,
      "metadata": {
        "colab": {},
        "colab_type": "code",
        "id": "L9KZr6xwIH9V"
      },
      "outputs": [],
      "source": [
        "import math\n",
        "irange = range\n",
        "\n",
        "\n",
        "def make_grid(tensor, nrow=8, padding=2,\n",
        "              normalize=False, range=None, scale_each=False, pad_value=0):\n",
        "    \"\"\"Make a grid of images.\n",
        "    Args:\n",
        "        tensor (Tensor or list): 4D mini-batch Tensor of shape (B x C x H x W)\n",
        "            or a list of images all of the same size.\n",
        "        nrow (int, optional): Number of images displayed in each row of the grid.\n",
        "            The Final grid size is (B / nrow, nrow). Default is 8.\n",
        "        padding (int, optional): amount of padding. Default is 2.\n",
        "        normalize (bool, optional): If True, shift the image to the range (0, 1),\n",
        "            by subtracting the minimum and dividing by the maximum pixel value.\n",
        "        range (tuple, optional): tuple (min, max) where min and max are numbers,\n",
        "            then these numbers are used to normalize the image. By default, min and max\n",
        "            are computed from the tensor.\n",
        "        scale_each (bool, optional): If True, scale each image in the batch of\n",
        "            images separately rather than the (min, max) over all images.\n",
        "        pad_value (float, optional): Value for the padded pixels.\n",
        "    Example:\n",
        "        See this notebook `here <https://gist.github.com/anonymous/bf16430f7750c023141c562f3e9f2a91>`_\n",
        "    \"\"\"\n",
        "    if not (torch.is_tensor(tensor) or\n",
        "            (isinstance(tensor, list) and all(torch.is_tensor(t) for t in tensor))):\n",
        "        raise TypeError('tensor or list of tensors expected, got {}'.format(type(tensor)))\n",
        "\n",
        "    # if list of tensors, convert to a 4D mini-batch Tensor\n",
        "    if isinstance(tensor, list):\n",
        "        tensor = torch.stack(tensor, dim=0)\n",
        "\n",
        "    if tensor.dim() == 2:  # single image H x W\n",
        "        tensor = tensor.view(1, tensor.size(0), tensor.size(1))\n",
        "    if tensor.dim() == 3:  # single image\n",
        "        if tensor.size(0) == 1:  # if single-channel, convert to 3-channel\n",
        "            tensor = torch.cat((tensor, tensor, tensor), 0)\n",
        "        tensor = tensor.view(1, tensor.size(0), tensor.size(1), tensor.size(2))\n",
        "\n",
        "    if tensor.dim() == 4 and tensor.size(1) == 1:  # single-channel images\n",
        "        tensor = torch.cat((tensor, tensor, tensor), 1)\n",
        "\n",
        "    if normalize is True:\n",
        "        tensor = tensor.clone()  # avoid modifying tensor in-place\n",
        "        if range is not None:\n",
        "            assert isinstance(range, tuple), \\\n",
        "                \"range has to be a tuple (min, max) if specified. min and max are numbers\"\n",
        "\n",
        "        def norm_ip(img, min, max):\n",
        "            img.clamp_(min=min, max=max)\n",
        "            img.add_(-min).div_(max - min + 1e-5)\n",
        "\n",
        "        def norm_range(t, range):\n",
        "            if range is not None:\n",
        "                norm_ip(t, range[0], range[1])\n",
        "            else:\n",
        "                norm_ip(t, float(t.min()), float(t.max()))\n",
        "\n",
        "        if scale_each is True:\n",
        "            for t in tensor:  # loop over mini-batch dimension\n",
        "                norm_range(t, range)\n",
        "        else:\n",
        "            norm_range(tensor, range)\n",
        "\n",
        "    if tensor.size(0) == 1:\n",
        "        return tensor.squeeze()\n",
        "\n",
        "    # make the mini-batch of images into a grid\n",
        "    nmaps = tensor.size(0)\n",
        "    xmaps = min(nrow, nmaps)\n",
        "    ymaps = int(math.ceil(float(nmaps) / xmaps))\n",
        "    height, width = int(tensor.size(2) + padding), int(tensor.size(3) + padding)\n",
        "    grid = tensor.new(3, height * ymaps + padding, width * xmaps + padding).fill_(pad_value)\n",
        "    k = 0\n",
        "    for y in irange(ymaps):\n",
        "        for x in irange(xmaps):\n",
        "            if k >= nmaps:\n",
        "                break\n",
        "            grid.narrow(1, y * height + padding, height - padding)\\\n",
        "                .narrow(2, x * width + padding, width - padding)\\\n",
        "                .copy_(tensor[k])\n",
        "            k = k + 1\n",
        "    return grid\n",
        "\n",
        "\n",
        "def save_image(tensor, filename, nrow=8, padding=2,\n",
        "               normalize=False, range=None, scale_each=False, pad_value=0):\n",
        "    \"\"\"Save a given Tensor into an image file.\n",
        "    Args:\n",
        "        tensor (Tensor or list): Image to be saved. If given a mini-batch tensor,\n",
        "            saves the tensor as a grid of images by calling ``make_grid``.\n",
        "        **kwargs: Other arguments are documented in ``make_grid``.\n",
        "    \"\"\"\n",
        "    from PIL import Image\n",
        "    grid = make_grid(tensor, nrow=nrow, padding=padding, pad_value=pad_value,\n",
        "                     normalize=normalize, range=range, scale_each=scale_each)\n",
        "    ndarr = grid.mul(255).clamp(0, 255).byte().permute(1, 2, 0).cpu().numpy()\n",
        "    im = Image.fromarray(ndarr)\n",
        "    im.save(filename)"
      ]
    },
    {
      "cell_type": "code",
      "execution_count": null,
      "metadata": {
        "colab": {
          "base_uri": "https://localhost:8080/",
          "height": 54
        },
        "colab_type": "code",
        "id": "8ilCKq1yOCjI",
        "outputId": "ffee28b8-1131-4238-fef8-2d2dee9f862f"
      },
      "outputs": [
        {
          "name": "stdout",
          "output_type": "stream",
          "text": [
            "Drive already mounted at /content/gdrive; to attempt to forcibly remount, call drive.mount(\"/content/gdrive\", force_remount=True).\n"
          ]
        }
      ],
      "source": [
        "from google.colab import drive\n",
        "drive.mount('/content/gdrive')"
      ]
    },
    {
      "cell_type": "code",
      "execution_count": null,
      "metadata": {
        "colab": {},
        "colab_type": "code",
        "id": "v9AlJRmbdMmZ"
      },
      "outputs": [],
      "source": [
        "# !mv 'gdrive/My Drive/Fall 18/297/Deliverable_3/data/Train/*' 'gdrive/My Drive/Fall 18/297/Deliverable_3/data/Train/train/'"
      ]
    },
    {
      "cell_type": "code",
      "execution_count": null,
      "metadata": {
        "colab": {},
        "colab_type": "code",
        "id": "NG0aiMZcvvcg"
      },
      "outputs": [],
      "source": [
        "img_transform = transforms.Compose([\n",
        "    transforms.ToTensor()#,\n",
        "#     transforms.Normalize((0.5, 0.5, 0.5), (0.24703223,  0.24348513 , 0.26158784))\n",
        "])\n",
        "\n",
        "data_path = 'gdrive/My Drive/Fall 18/297/Deliverable_3/data/'\n",
        "\n",
        "trainset = torchvision.datasets.ImageFolder( root=data_path+'train/', transform=img_transform)\n",
        "\n",
        "train_loader = torch.utils.data.DataLoader(trainset, batch_size=8,\n",
        "                                          shuffle=True, num_workers=2)\n",
        "\n",
        "testset = torchvision.datasets.ImageFolder( root=data_path+'test/', transform=img_transform)\n",
        "\n",
        "test_loader = torch.utils.data.DataLoader(testset, batch_size=8,shuffle=False, num_workers=2)"
      ]
    },
    {
      "cell_type": "code",
      "execution_count": null,
      "metadata": {
        "colab": {},
        "colab_type": "code",
        "id": "Ggg832Bqwbq7"
      },
      "outputs": [],
      "source": [
        "# code block to text image loader\n",
        "# print(trainloader)"
      ]
    },
    {
      "cell_type": "markdown",
      "metadata": {
        "colab_type": "text",
        "id": "KwY8W455pGhk"
      },
      "source": [
        "### Parameters"
      ]
    },
    {
      "cell_type": "code",
      "execution_count": null,
      "metadata": {
        "colab": {},
        "colab_type": "code",
        "id": "G3n2__mWHBQI"
      },
      "outputs": [],
      "source": [
        "CHANNELS = 3\n",
        "HEIGHT = 256\n",
        "WIDTH = 256\n",
        "EPOCHS = 20\n",
        "LOG_INTERVAL = 500"
      ]
    },
    {
      "cell_type": "markdown",
      "metadata": {
        "colab_type": "text",
        "id": "NOVR5jNOU5A7"
      },
      "source": [
        "### Define the network"
      ]
    },
    {
      "cell_type": "code",
      "execution_count": null,
      "metadata": {
        "colab": {},
        "colab_type": "code",
        "id": "U5UBMyfgwO5z"
      },
      "outputs": [],
      "source": [
        "class Interpolate(nn.Module):\n",
        "    def __init__(self, size, mode):\n",
        "        super(Interpolate, self).__init__()\n",
        "        self.interp = nn.functional.interpolate\n",
        "        self.size = size\n",
        "        self.mode = mode\n",
        "        \n",
        "    def forward(self, x):\n",
        "        x = self.interp(x, size=self.size, mode=self.mode, align_corners=False)\n",
        "        return x"
      ]
    },
    {
      "cell_type": "code",
      "execution_count": null,
      "metadata": {
        "colab": {},
        "colab_type": "code",
        "id": "REJrpjnYFeMm"
      },
      "outputs": [],
      "source": [
        "class End_to_end(nn.Module):\n",
        "  def __init__(self):\n",
        "    super(End_to_end, self).__init__()\n",
        "    \n",
        "    # Encoder\n",
        "    # TODO : try with padding = 0\n",
        "    self.conv1 = nn.Conv2d(CHANNELS, 64, kernel_size=3, stride=1, padding=1)\n",
        "    self.conv2 = nn.Conv2d(64, 64, kernel_size=3, stride=2, padding=0)\n",
        "    self.bn1 = nn.BatchNorm2d(64, affine=False)\n",
        "    self.conv3 = nn.Conv2d(64, CHANNELS, kernel_size=3, stride=1, padding=1)\n",
        "    \n",
        "    # Decoder\n",
        "    #TODO : try ConvTranspose2d\n",
        "    self.interpolate = Interpolate(size=HEIGHT, mode='bilinear')\n",
        "    self.deconv1 = nn.Conv2d(CHANNELS, 64, 3, stride=1, padding=1)\n",
        "    self.deconv2 = nn.Conv2d(64, 64, 3, stride=1, padding=1)\n",
        "    self.bn2 = nn.BatchNorm2d(64, affine=False)\n",
        "    \n",
        "    self.deconv_n = nn.Conv2d(64, 64, 3, stride=1, padding=1)\n",
        "    self.bn_n = nn.BatchNorm2d(64, affine=False)\n",
        "\n",
        "    \n",
        "    self.deconv3 = nn.ConvTranspose2d(64, CHANNELS, 3, stride=1, padding=1)\n",
        "    \n",
        "    self.relu = nn.ReLU()\n",
        "  \n",
        "  def encode(self, x):\n",
        "    out = self.relu(self.conv1(x))\n",
        "    out = self.relu(self.conv2(out))\n",
        "    out = self.bn1(out)\n",
        "    return self.conv3(out)\n",
        "    \n",
        "  \n",
        "  def reparameterize(self, mu, logvar):\n",
        "    pass\n",
        "  \n",
        "  def decode(self, z):\n",
        "    upscaled_image = self.interpolate(z)\n",
        "    out = self.relu(self.deconv1(upscaled_image))\n",
        "    out = self.relu(self.deconv2(out))\n",
        "    out = self.bn2(out)\n",
        "    for _ in range(10):\n",
        "      out = self.relu(self.deconv_n(out))\n",
        "      out = self.bn_n(out)\n",
        "    out = self.deconv3(out)\n",
        "    final = upscaled_image + out\n",
        "    return final,out,upscaled_image\n",
        "\n",
        "    \n",
        "  def forward(self, x):\n",
        "    com_img = self.encode(x)\n",
        "    final,out,upscaled_image = self.decode(com_img)\n",
        "    return final, out, upscaled_image, com_img, x\n",
        "\n",
        "  \n"
      ]
    },
    {
      "cell_type": "markdown",
      "metadata": {
        "colab_type": "text",
        "id": "XG45FHw7MFzW"
      },
      "source": [
        "### Optimizer and loss function "
      ]
    },
    {
      "cell_type": "code",
      "execution_count": null,
      "metadata": {
        "colab": {},
        "colab_type": "code",
        "id": "RrnHrzxRIP0q"
      },
      "outputs": [],
      "source": [
        "CUDA = torch.cuda.is_available()\n",
        "if CUDA:\n",
        "  model = End_to_end().cuda()\n",
        "else :\n",
        "  model = end_to_end()\n",
        "  \n",
        "optimizer = optim.Adam(model.parameters(), lr=1e-3)"
      ]
    },
    {
      "cell_type": "code",
      "execution_count": null,
      "metadata": {
        "colab": {},
        "colab_type": "code",
        "id": "VfZ9DoJogyOA"
      },
      "outputs": [],
      "source": [
        "def loss_function(final_img,residual_img,upscaled_img,com_img,orig_img):\n",
        "\n",
        "  com_loss = nn.MSELoss(size_average=False)(orig_img, final_img)\n",
        "  rec_loss = nn.MSELoss(size_average=False)(residual_img,orig_img-upscaled_img)\n",
        "  \n",
        "  return com_loss + rec_loss"
      ]
    },
    {
      "cell_type": "markdown",
      "metadata": {
        "colab_type": "text",
        "id": "u9QRvcpIMPGU"
      },
      "source": [
        "### Train , Test functions"
      ]
    },
    {
      "cell_type": "code",
      "execution_count": null,
      "metadata": {
        "colab": {},
        "colab_type": "code",
        "id": "dWsyut4Kbruf"
      },
      "outputs": [],
      "source": [
        "def train(epoch):\n",
        "    model.train()\n",
        "    train_loss = 0\n",
        "    for batch_idx, (data, _) in enumerate(train_loader):\n",
        "        data = Variable(data)\n",
        "        optimizer.zero_grad()\n",
        "        final, residual_img, upscaled_image, com_img, orig_im = model(data.cuda())\n",
        "        loss = loss_function(final, residual_img, upscaled_image, com_img, orig_im)\n",
        "        loss.backward()\n",
        "        train_loss += loss.data[0]\n",
        "        optimizer.step()\n",
        "        if batch_idx % LOG_INTERVAL == 0:\n",
        "            print('Train Epoch: {} [{}/{} ({:.0f}%)]\\tLoss: {:.6f}'.format(\n",
        "                epoch, batch_idx * len(data), len(train_loader.dataset),\n",
        "                100. * batch_idx / len(train_loader),\n",
        "                loss.data[0] / len(data)))\n",
        "            print(datetime.datetime.now().time())\n",
        "\n",
        "    print('====> Epoch: {} Average loss: {:.4f}'.format(\n",
        "          epoch, train_loss / len(train_loader.dataset)))\n"
      ]
    },
    {
      "cell_type": "code",
      "execution_count": null,
      "metadata": {
        "colab": {},
        "colab_type": "code",
        "id": "Mpg44nfscmcG"
      },
      "outputs": [],
      "source": [
        "def test(epoch):\n",
        "  \n",
        "  model.eval()\n",
        "  test_loss = 0\n",
        "  for i, (data, _) in enumerate(test_loader):\n",
        "        data = Variable(data, volatile=True)\n",
        "        final, residual_img, upscaled_image, com_img, orig_im = model(data.cuda())\n",
        "        test_loss += loss_function(final, residual_img, upscaled_image, com_img, orig_im).data[0]\n",
        "        if epoch == EPOCHS and i == 0:\n",
        "#             save_image(final.data[0],'reconstruction_final',nrow=8)\n",
        "#             save_image(com_img.data[0],'com_img',nrow=8)\n",
        "            n = min(data.size(0), 6)\n",
        "            print(\"saving the image \"+str(n))\n",
        "            comparison = torch.cat([data[:n],\n",
        "              final[:n].cpu()])\n",
        "            comparison = comparison.cpu()\n",
        "#             print(comparison.data)\n",
        "            save_image(com_img[:n].data,\n",
        "                       'compressed_' + str(epoch) +'.png', nrow=n)\n",
        "            save_image(comparison.data,\n",
        "                       'reconstruction_' + str(epoch) +'.png', nrow=n)\n",
        "\n",
        "  test_loss /= len(test_loader.dataset)\n",
        "  print('====> Test set loss: {:.4f}'.format(test_loss))"
      ]
    },
    {
      "cell_type": "markdown",
      "metadata": {
        "colab_type": "text",
        "id": "sgm066wKMWVU"
      },
      "source": [
        "### Run the code"
      ]
    },
    {
      "cell_type": "code",
      "execution_count": null,
      "metadata": {
        "colab": {
          "base_uri": "https://localhost:8080/",
          "height": 2496
        },
        "colab_type": "code",
        "id": "vwuk-i3jcnIQ",
        "outputId": "9672cbeb-e257-4d9f-a9cf-95213c92cd37"
      },
      "outputs": [
        {
          "name": "stderr",
          "output_type": "stream",
          "text": [
            "/usr/local/lib/python3.6/dist-packages/torch/nn/functional.py:52: UserWarning: size_average and reduce args will be deprecated, please use reduction='sum' instead.\n",
            "  warnings.warn(warning.format(ret))\n",
            "/usr/local/lib/python3.6/dist-packages/ipykernel_launcher.py:10: UserWarning: invalid index of a 0-dim tensor. This will be an error in PyTorch 0.5. Use tensor.item() to convert a 0-dim tensor to a Python number\n",
            "  # Remove the CWD from sys.path while we load stuff.\n",
            "/usr/local/lib/python3.6/dist-packages/ipykernel_launcher.py:16: UserWarning: invalid index of a 0-dim tensor. This will be an error in PyTorch 0.5. Use tensor.item() to convert a 0-dim tensor to a Python number\n",
            "  app.launch_new_instance()\n"
          ]
        },
        {
          "name": "stdout",
          "output_type": "stream",
          "text": [
            "Train Epoch: 1 [0/810 (0%)]\tLoss: 443549.500000\n",
            "01:46:00.446699\n",
            "====> Epoch: 1 Average loss: 68711.7266\n"
          ]
        },
        {
          "name": "stderr",
          "output_type": "stream",
          "text": [
            "/usr/local/lib/python3.6/dist-packages/ipykernel_launcher.py:6: UserWarning: volatile was removed and now has no effect. Use `with torch.no_grad():` instead.\n",
            "  \n",
            "/usr/local/lib/python3.6/dist-packages/ipykernel_launcher.py:8: UserWarning: invalid index of a 0-dim tensor. This will be an error in PyTorch 0.5. Use tensor.item() to convert a 0-dim tensor to a Python number\n",
            "  \n"
          ]
        },
        {
          "name": "stdout",
          "output_type": "stream",
          "text": [
            "====> Test set loss: 28581.0039\n",
            "Train Epoch: 2 [0/810 (0%)]\tLoss: 37253.742188\n",
            "01:49:03.302013\n",
            "====> Epoch: 2 Average loss: 19572.8281\n",
            "====> Test set loss: 11050.1201\n",
            "Train Epoch: 3 [0/810 (0%)]\tLoss: 12267.572266\n",
            "01:52:00.844391\n",
            "====> Epoch: 3 Average loss: 7404.4829\n",
            "====> Test set loss: 5873.8867\n",
            "Train Epoch: 4 [0/810 (0%)]\tLoss: 9039.861328\n",
            "01:54:58.487735\n",
            "====> Epoch: 4 Average loss: 4384.4233\n",
            "====> Test set loss: 9743.9531\n",
            "Train Epoch: 5 [0/810 (0%)]\tLoss: 3745.907959\n",
            "01:57:56.380236\n",
            "====> Epoch: 5 Average loss: 3570.9204\n",
            "====> Test set loss: 2823.0381\n",
            "Train Epoch: 6 [0/810 (0%)]\tLoss: 3183.436768\n",
            "02:00:54.248975\n",
            "====> Epoch: 6 Average loss: 3040.0547\n",
            "====> Test set loss: 1925.0757\n",
            "Train Epoch: 7 [0/810 (0%)]\tLoss: 2773.997559\n",
            "02:03:51.847752\n",
            "====> Epoch: 7 Average loss: 3122.0879\n",
            "====> Test set loss: 5255.4082\n",
            "Train Epoch: 8 [0/810 (0%)]\tLoss: 5169.585938\n",
            "02:06:49.257477\n",
            "====> Epoch: 8 Average loss: 2909.1106\n",
            "====> Test set loss: 2488.4092\n",
            "Train Epoch: 9 [0/810 (0%)]\tLoss: 1779.885498\n",
            "02:09:46.837030\n",
            "====> Epoch: 9 Average loss: 2919.6140\n",
            "====> Test set loss: 2970.0229\n",
            "Train Epoch: 10 [0/810 (0%)]\tLoss: 4895.579590\n",
            "02:12:44.331571\n",
            "====> Epoch: 10 Average loss: 2925.4282\n",
            "====> Test set loss: 1989.1708\n",
            "Train Epoch: 11 [0/810 (0%)]\tLoss: 2337.702393\n",
            "02:15:42.030679\n",
            "====> Epoch: 11 Average loss: 2584.3303\n",
            "====> Test set loss: 1616.8094\n",
            "Train Epoch: 12 [0/810 (0%)]\tLoss: 2936.872559\n",
            "02:18:39.771602\n",
            "====> Epoch: 12 Average loss: 2686.9236\n",
            "====> Test set loss: 1931.7375\n",
            "Train Epoch: 13 [0/810 (0%)]\tLoss: 2073.365723\n",
            "02:21:37.183606\n",
            "====> Epoch: 13 Average loss: 2718.2651\n",
            "====> Test set loss: 4392.6050\n",
            "Train Epoch: 14 [0/810 (0%)]\tLoss: 5422.627930\n",
            "02:24:34.814040\n",
            "====> Epoch: 14 Average loss: 2755.8767\n",
            "====> Test set loss: 2186.2920\n",
            "Train Epoch: 15 [0/810 (0%)]\tLoss: 3340.429932\n",
            "02:27:32.454519\n",
            "====> Epoch: 15 Average loss: 2672.5178\n",
            "====> Test set loss: 2013.5050\n",
            "Train Epoch: 16 [0/810 (0%)]\tLoss: 2875.508789\n",
            "02:30:30.157070\n",
            "====> Epoch: 16 Average loss: 2798.1323\n",
            "====> Test set loss: 1559.5017\n",
            "Train Epoch: 17 [0/810 (0%)]\tLoss: 3535.354736\n",
            "02:33:27.863863\n",
            "====> Epoch: 17 Average loss: 3296.6772\n",
            "====> Test set loss: 1681.8531\n",
            "Train Epoch: 18 [0/810 (0%)]\tLoss: 4962.602051\n",
            "02:36:25.478238\n",
            "====> Epoch: 18 Average loss: 2527.4783\n",
            "====> Test set loss: 10871.3311\n",
            "Train Epoch: 19 [0/810 (0%)]\tLoss: 6825.554688\n",
            "02:39:23.084063\n",
            "====> Epoch: 19 Average loss: 4344.0122\n",
            "====> Test set loss: 4108.6138\n",
            "Train Epoch: 20 [0/810 (0%)]\tLoss: 2646.220459\n",
            "02:42:20.646181\n",
            "====> Epoch: 20 Average loss: 2985.7725\n",
            "saving the image 6\n"
          ]
        },
        {
          "ename": "RuntimeError",
          "evalue": "ignored",
          "output_type": "error",
          "traceback": [
            "\u001b[0;31m---------------------------------------------------------------------------\u001b[0m",
            "\u001b[0;31mRuntimeError\u001b[0m                              Traceback (most recent call last)",
            "\u001b[0;32m<ipython-input-12-0da9d6159a1c>\u001b[0m in \u001b[0;36m<module>\u001b[0;34m()\u001b[0m\n\u001b[1;32m      1\u001b[0m \u001b[0;32mfor\u001b[0m \u001b[0mepoch\u001b[0m \u001b[0;32min\u001b[0m \u001b[0mrange\u001b[0m\u001b[0;34m(\u001b[0m\u001b[0;36m1\u001b[0m\u001b[0;34m,\u001b[0m \u001b[0mEPOCHS\u001b[0m\u001b[0;34m+\u001b[0m\u001b[0;36m1\u001b[0m\u001b[0;34m)\u001b[0m\u001b[0;34m:\u001b[0m\u001b[0;34m\u001b[0m\u001b[0;34m\u001b[0m\u001b[0m\n\u001b[1;32m      2\u001b[0m     \u001b[0mtrain\u001b[0m\u001b[0;34m(\u001b[0m\u001b[0mepoch\u001b[0m\u001b[0;34m)\u001b[0m\u001b[0;34m\u001b[0m\u001b[0;34m\u001b[0m\u001b[0m\n\u001b[0;32m----> 3\u001b[0;31m     \u001b[0mtest\u001b[0m\u001b[0;34m(\u001b[0m\u001b[0mepoch\u001b[0m\u001b[0;34m)\u001b[0m\u001b[0;34m\u001b[0m\u001b[0;34m\u001b[0m\u001b[0m\n\u001b[0m\u001b[1;32m      4\u001b[0m \u001b[0;31m#         sample = Variable(torch.randn(64, args.hidden_size),16)\u001b[0m\u001b[0;34m\u001b[0m\u001b[0;34m\u001b[0m\u001b[0;34m\u001b[0m\u001b[0m\n\u001b[1;32m      5\u001b[0m \u001b[0;31m#         sample = model.decode(sample)\u001b[0m\u001b[0;34m\u001b[0m\u001b[0;34m\u001b[0m\u001b[0;34m\u001b[0m\u001b[0m\n",
            "\u001b[0;32m<ipython-input-11-551d3fab723d>\u001b[0m in \u001b[0;36mtest\u001b[0;34m(epoch)\u001b[0m\n\u001b[1;32m      5\u001b[0m   \u001b[0;32mfor\u001b[0m \u001b[0mi\u001b[0m\u001b[0;34m,\u001b[0m \u001b[0;34m(\u001b[0m\u001b[0mdata\u001b[0m\u001b[0;34m,\u001b[0m \u001b[0m_\u001b[0m\u001b[0;34m)\u001b[0m \u001b[0;32min\u001b[0m \u001b[0menumerate\u001b[0m\u001b[0;34m(\u001b[0m\u001b[0mtest_loader\u001b[0m\u001b[0;34m)\u001b[0m\u001b[0;34m:\u001b[0m\u001b[0;34m\u001b[0m\u001b[0;34m\u001b[0m\u001b[0m\n\u001b[1;32m      6\u001b[0m         \u001b[0mdata\u001b[0m \u001b[0;34m=\u001b[0m \u001b[0mVariable\u001b[0m\u001b[0;34m(\u001b[0m\u001b[0mdata\u001b[0m\u001b[0;34m,\u001b[0m \u001b[0mvolatile\u001b[0m\u001b[0;34m=\u001b[0m\u001b[0;32mTrue\u001b[0m\u001b[0;34m)\u001b[0m\u001b[0;34m\u001b[0m\u001b[0;34m\u001b[0m\u001b[0m\n\u001b[0;32m----> 7\u001b[0;31m         \u001b[0mfinal\u001b[0m\u001b[0;34m,\u001b[0m \u001b[0mresidual_img\u001b[0m\u001b[0;34m,\u001b[0m \u001b[0mupscaled_image\u001b[0m\u001b[0;34m,\u001b[0m \u001b[0mcom_img\u001b[0m\u001b[0;34m,\u001b[0m \u001b[0morig_im\u001b[0m \u001b[0;34m=\u001b[0m \u001b[0mmodel\u001b[0m\u001b[0;34m(\u001b[0m\u001b[0mdata\u001b[0m\u001b[0;34m.\u001b[0m\u001b[0mcuda\u001b[0m\u001b[0;34m(\u001b[0m\u001b[0;34m)\u001b[0m\u001b[0;34m)\u001b[0m\u001b[0;34m\u001b[0m\u001b[0;34m\u001b[0m\u001b[0m\n\u001b[0m\u001b[1;32m      8\u001b[0m         \u001b[0mtest_loss\u001b[0m \u001b[0;34m+=\u001b[0m \u001b[0mloss_function\u001b[0m\u001b[0;34m(\u001b[0m\u001b[0mfinal\u001b[0m\u001b[0;34m,\u001b[0m \u001b[0mresidual_img\u001b[0m\u001b[0;34m,\u001b[0m \u001b[0mupscaled_image\u001b[0m\u001b[0;34m,\u001b[0m \u001b[0mcom_img\u001b[0m\u001b[0;34m,\u001b[0m \u001b[0morig_im\u001b[0m\u001b[0;34m)\u001b[0m\u001b[0;34m.\u001b[0m\u001b[0mdata\u001b[0m\u001b[0;34m[\u001b[0m\u001b[0;36m0\u001b[0m\u001b[0;34m]\u001b[0m\u001b[0;34m\u001b[0m\u001b[0;34m\u001b[0m\u001b[0m\n\u001b[1;32m      9\u001b[0m         \u001b[0;32mif\u001b[0m \u001b[0mepoch\u001b[0m \u001b[0;34m==\u001b[0m \u001b[0mEPOCHS\u001b[0m \u001b[0;32mand\u001b[0m \u001b[0mi\u001b[0m \u001b[0;34m==\u001b[0m \u001b[0;36m0\u001b[0m\u001b[0;34m:\u001b[0m\u001b[0;34m\u001b[0m\u001b[0;34m\u001b[0m\u001b[0m\n",
            "\u001b[0;32m/usr/local/lib/python3.6/dist-packages/torch/nn/modules/module.py\u001b[0m in \u001b[0;36m__call__\u001b[0;34m(self, *input, **kwargs)\u001b[0m\n\u001b[1;32m    475\u001b[0m             \u001b[0mresult\u001b[0m \u001b[0;34m=\u001b[0m \u001b[0mself\u001b[0m\u001b[0;34m.\u001b[0m\u001b[0m_slow_forward\u001b[0m\u001b[0;34m(\u001b[0m\u001b[0;34m*\u001b[0m\u001b[0minput\u001b[0m\u001b[0;34m,\u001b[0m \u001b[0;34m**\u001b[0m\u001b[0mkwargs\u001b[0m\u001b[0;34m)\u001b[0m\u001b[0;34m\u001b[0m\u001b[0;34m\u001b[0m\u001b[0m\n\u001b[1;32m    476\u001b[0m         \u001b[0;32melse\u001b[0m\u001b[0;34m:\u001b[0m\u001b[0;34m\u001b[0m\u001b[0;34m\u001b[0m\u001b[0m\n\u001b[0;32m--> 477\u001b[0;31m             \u001b[0mresult\u001b[0m \u001b[0;34m=\u001b[0m \u001b[0mself\u001b[0m\u001b[0;34m.\u001b[0m\u001b[0mforward\u001b[0m\u001b[0;34m(\u001b[0m\u001b[0;34m*\u001b[0m\u001b[0minput\u001b[0m\u001b[0;34m,\u001b[0m \u001b[0;34m**\u001b[0m\u001b[0mkwargs\u001b[0m\u001b[0;34m)\u001b[0m\u001b[0;34m\u001b[0m\u001b[0;34m\u001b[0m\u001b[0m\n\u001b[0m\u001b[1;32m    478\u001b[0m         \u001b[0;32mfor\u001b[0m \u001b[0mhook\u001b[0m \u001b[0;32min\u001b[0m \u001b[0mself\u001b[0m\u001b[0;34m.\u001b[0m\u001b[0m_forward_hooks\u001b[0m\u001b[0;34m.\u001b[0m\u001b[0mvalues\u001b[0m\u001b[0;34m(\u001b[0m\u001b[0;34m)\u001b[0m\u001b[0;34m:\u001b[0m\u001b[0;34m\u001b[0m\u001b[0;34m\u001b[0m\u001b[0m\n\u001b[1;32m    479\u001b[0m             \u001b[0mhook_result\u001b[0m \u001b[0;34m=\u001b[0m \u001b[0mhook\u001b[0m\u001b[0;34m(\u001b[0m\u001b[0mself\u001b[0m\u001b[0;34m,\u001b[0m \u001b[0minput\u001b[0m\u001b[0;34m,\u001b[0m \u001b[0mresult\u001b[0m\u001b[0;34m)\u001b[0m\u001b[0;34m\u001b[0m\u001b[0;34m\u001b[0m\u001b[0m\n",
            "\u001b[0;32m<ipython-input-7-ddee9e627743>\u001b[0m in \u001b[0;36mforward\u001b[0;34m(self, x)\u001b[0m\n\u001b[1;32m     50\u001b[0m   \u001b[0;32mdef\u001b[0m \u001b[0mforward\u001b[0m\u001b[0;34m(\u001b[0m\u001b[0mself\u001b[0m\u001b[0;34m,\u001b[0m \u001b[0mx\u001b[0m\u001b[0;34m)\u001b[0m\u001b[0;34m:\u001b[0m\u001b[0;34m\u001b[0m\u001b[0;34m\u001b[0m\u001b[0m\n\u001b[1;32m     51\u001b[0m     \u001b[0mcom_img\u001b[0m \u001b[0;34m=\u001b[0m \u001b[0mself\u001b[0m\u001b[0;34m.\u001b[0m\u001b[0mencode\u001b[0m\u001b[0;34m(\u001b[0m\u001b[0mx\u001b[0m\u001b[0;34m)\u001b[0m\u001b[0;34m\u001b[0m\u001b[0;34m\u001b[0m\u001b[0m\n\u001b[0;32m---> 52\u001b[0;31m     \u001b[0mfinal\u001b[0m\u001b[0;34m,\u001b[0m\u001b[0mout\u001b[0m\u001b[0;34m,\u001b[0m\u001b[0mupscaled_image\u001b[0m \u001b[0;34m=\u001b[0m \u001b[0mself\u001b[0m\u001b[0;34m.\u001b[0m\u001b[0mdecode\u001b[0m\u001b[0;34m(\u001b[0m\u001b[0mcom_img\u001b[0m\u001b[0;34m)\u001b[0m\u001b[0;34m\u001b[0m\u001b[0;34m\u001b[0m\u001b[0m\n\u001b[0m\u001b[1;32m     53\u001b[0m     \u001b[0;32mreturn\u001b[0m \u001b[0mfinal\u001b[0m\u001b[0;34m,\u001b[0m \u001b[0mout\u001b[0m\u001b[0;34m,\u001b[0m \u001b[0mupscaled_image\u001b[0m\u001b[0;34m,\u001b[0m \u001b[0mcom_img\u001b[0m\u001b[0;34m,\u001b[0m \u001b[0mx\u001b[0m\u001b[0;34m\u001b[0m\u001b[0;34m\u001b[0m\u001b[0m\n\u001b[1;32m     54\u001b[0m \u001b[0;34m\u001b[0m\u001b[0m\n",
            "\u001b[0;32m<ipython-input-7-ddee9e627743>\u001b[0m in \u001b[0;36mdecode\u001b[0;34m(self, z)\u001b[0m\n\u001b[1;32m     41\u001b[0m     \u001b[0mout\u001b[0m \u001b[0;34m=\u001b[0m \u001b[0mself\u001b[0m\u001b[0;34m.\u001b[0m\u001b[0mbn2\u001b[0m\u001b[0;34m(\u001b[0m\u001b[0mout\u001b[0m\u001b[0;34m)\u001b[0m\u001b[0;34m\u001b[0m\u001b[0;34m\u001b[0m\u001b[0m\n\u001b[1;32m     42\u001b[0m     \u001b[0;32mfor\u001b[0m \u001b[0m_\u001b[0m \u001b[0;32min\u001b[0m \u001b[0mrange\u001b[0m\u001b[0;34m(\u001b[0m\u001b[0;36m10\u001b[0m\u001b[0;34m)\u001b[0m\u001b[0;34m:\u001b[0m\u001b[0;34m\u001b[0m\u001b[0;34m\u001b[0m\u001b[0m\n\u001b[0;32m---> 43\u001b[0;31m       \u001b[0mout\u001b[0m \u001b[0;34m=\u001b[0m \u001b[0mself\u001b[0m\u001b[0;34m.\u001b[0m\u001b[0mrelu\u001b[0m\u001b[0;34m(\u001b[0m\u001b[0mself\u001b[0m\u001b[0;34m.\u001b[0m\u001b[0mdeconv_n\u001b[0m\u001b[0;34m(\u001b[0m\u001b[0mout\u001b[0m\u001b[0;34m)\u001b[0m\u001b[0;34m)\u001b[0m\u001b[0;34m\u001b[0m\u001b[0;34m\u001b[0m\u001b[0m\n\u001b[0m\u001b[1;32m     44\u001b[0m       \u001b[0mout\u001b[0m \u001b[0;34m=\u001b[0m \u001b[0mself\u001b[0m\u001b[0;34m.\u001b[0m\u001b[0mbn_n\u001b[0m\u001b[0;34m(\u001b[0m\u001b[0mout\u001b[0m\u001b[0;34m)\u001b[0m\u001b[0;34m\u001b[0m\u001b[0;34m\u001b[0m\u001b[0m\n\u001b[1;32m     45\u001b[0m     \u001b[0mout\u001b[0m \u001b[0;34m=\u001b[0m \u001b[0mself\u001b[0m\u001b[0;34m.\u001b[0m\u001b[0mdeconv3\u001b[0m\u001b[0;34m(\u001b[0m\u001b[0mout\u001b[0m\u001b[0;34m)\u001b[0m\u001b[0;34m\u001b[0m\u001b[0;34m\u001b[0m\u001b[0m\n",
            "\u001b[0;32m/usr/local/lib/python3.6/dist-packages/torch/nn/modules/module.py\u001b[0m in \u001b[0;36m__call__\u001b[0;34m(self, *input, **kwargs)\u001b[0m\n\u001b[1;32m    475\u001b[0m             \u001b[0mresult\u001b[0m \u001b[0;34m=\u001b[0m \u001b[0mself\u001b[0m\u001b[0;34m.\u001b[0m\u001b[0m_slow_forward\u001b[0m\u001b[0;34m(\u001b[0m\u001b[0;34m*\u001b[0m\u001b[0minput\u001b[0m\u001b[0;34m,\u001b[0m \u001b[0;34m**\u001b[0m\u001b[0mkwargs\u001b[0m\u001b[0;34m)\u001b[0m\u001b[0;34m\u001b[0m\u001b[0;34m\u001b[0m\u001b[0m\n\u001b[1;32m    476\u001b[0m         \u001b[0;32melse\u001b[0m\u001b[0;34m:\u001b[0m\u001b[0;34m\u001b[0m\u001b[0;34m\u001b[0m\u001b[0m\n\u001b[0;32m--> 477\u001b[0;31m             \u001b[0mresult\u001b[0m \u001b[0;34m=\u001b[0m \u001b[0mself\u001b[0m\u001b[0;34m.\u001b[0m\u001b[0mforward\u001b[0m\u001b[0;34m(\u001b[0m\u001b[0;34m*\u001b[0m\u001b[0minput\u001b[0m\u001b[0;34m,\u001b[0m \u001b[0;34m**\u001b[0m\u001b[0mkwargs\u001b[0m\u001b[0;34m)\u001b[0m\u001b[0;34m\u001b[0m\u001b[0;34m\u001b[0m\u001b[0m\n\u001b[0m\u001b[1;32m    478\u001b[0m         \u001b[0;32mfor\u001b[0m \u001b[0mhook\u001b[0m \u001b[0;32min\u001b[0m \u001b[0mself\u001b[0m\u001b[0;34m.\u001b[0m\u001b[0m_forward_hooks\u001b[0m\u001b[0;34m.\u001b[0m\u001b[0mvalues\u001b[0m\u001b[0;34m(\u001b[0m\u001b[0;34m)\u001b[0m\u001b[0;34m:\u001b[0m\u001b[0;34m\u001b[0m\u001b[0;34m\u001b[0m\u001b[0m\n\u001b[1;32m    479\u001b[0m             \u001b[0mhook_result\u001b[0m \u001b[0;34m=\u001b[0m \u001b[0mhook\u001b[0m\u001b[0;34m(\u001b[0m\u001b[0mself\u001b[0m\u001b[0;34m,\u001b[0m \u001b[0minput\u001b[0m\u001b[0;34m,\u001b[0m \u001b[0mresult\u001b[0m\u001b[0;34m)\u001b[0m\u001b[0;34m\u001b[0m\u001b[0;34m\u001b[0m\u001b[0m\n",
            "\u001b[0;32m/usr/local/lib/python3.6/dist-packages/torch/nn/modules/conv.py\u001b[0m in \u001b[0;36mforward\u001b[0;34m(self, input)\u001b[0m\n\u001b[1;32m    299\u001b[0m     \u001b[0;32mdef\u001b[0m \u001b[0mforward\u001b[0m\u001b[0;34m(\u001b[0m\u001b[0mself\u001b[0m\u001b[0;34m,\u001b[0m \u001b[0minput\u001b[0m\u001b[0;34m)\u001b[0m\u001b[0;34m:\u001b[0m\u001b[0;34m\u001b[0m\u001b[0;34m\u001b[0m\u001b[0m\n\u001b[1;32m    300\u001b[0m         return F.conv2d(input, self.weight, self.bias, self.stride,\n\u001b[0;32m--> 301\u001b[0;31m                         self.padding, self.dilation, self.groups)\n\u001b[0m\u001b[1;32m    302\u001b[0m \u001b[0;34m\u001b[0m\u001b[0m\n\u001b[1;32m    303\u001b[0m \u001b[0;34m\u001b[0m\u001b[0m\n",
            "\u001b[0;31mRuntimeError\u001b[0m: CUDA error: out of memory"
          ]
        }
      ],
      "source": [
        "for epoch in range(1, EPOCHS+1):\n",
        "    train(epoch)\n",
        "    test(epoch)\n",
        "#         sample = Variable(torch.randn(64, args.hidden_size),16)\n",
        "#         sample = model.decode(sample)\n",
        "#         print(\"saving im\")\n",
        "#         save_image(sample.data.view(64, 3, 32, 32),\n",
        "# 'sample_' + str(epoch) + '.png')"
      ]
    },
    {
      "cell_type": "markdown",
      "metadata": {
        "colab_type": "text",
        "id": "IdqFO814nFmd"
      },
      "source": [
        "Reference : https://github.com/L1aoXingyu/pytorch-beginner/tree/master/08-AutoEncoder"
      ]
    },
    {
      "cell_type": "code",
      "execution_count": null,
      "metadata": {
        "colab": {},
        "colab_type": "code",
        "id": "lV2s0SMv2yO3"
      },
      "outputs": [],
      "source": [
        "#   model.save_state_dict()\n",
        "torch.save(model.state_dict(), 'gdrive/My Drive/Fall 18/297/Deliverable_3/model.pth')"
      ]
    },
    {
      "cell_type": "code",
      "execution_count": null,
      "metadata": {
        "colab": {},
        "colab_type": "code",
        "id": "g0Jjq93jYN3C"
      },
      "outputs": [],
      "source": [
        "# from google.colab import drive\n",
        "# drive.mount('/content/gdrive') "
      ]
    },
    {
      "cell_type": "code",
      "execution_count": null,
      "metadata": {
        "colab": {},
        "colab_type": "code",
        "id": "BfAnSwModHG_"
      },
      "outputs": [],
      "source": [
        "model.load_state_dict(torch.load('gdrive/My Drive/Fall 18/297/Deliverable_3/model.pth'))\n",
        "\n",
        "def save_images():\n",
        "  epoch = EPOCHS\n",
        "  model.eval()\n",
        "  test_loss = 0\n",
        "  \n",
        "  for i, (data, _) in enumerate(test_loader):\n",
        "        data = Variable(data, volatile=True)\n",
        "        final, residual_img, upscaled_image, com_img, orig_im = model(data.cuda())\n",
        "        test_loss += loss_function(final, residual_img, upscaled_image, com_img, orig_im).data[0]\n",
        "        if True :\n",
        "#             save_image(final.data[0],'reconstruction_final',nrow=8)\n",
        "#             save_image(com_img.data[0],'com_img',nrow=8)\n",
        "            n = min(data.size(0), 6)\n",
        "            print(\"saving the image \"+str(i))\n",
        "            comparison = torch.cat([data[:n],\n",
        "              final[:n].cpu()])\n",
        "            comparison = comparison.cpu()\n",
        "#             print(comparison.data)\n",
        "            save_image(com_img[i].data,\n",
        "                         'compressed_' + str(i) +'.png', nrow=n)\n",
        "            save_image(final[i].data,\n",
        "                        'final_' + str(i) +'.png', nrow=n)\n",
        "            save_image(orig_im[i].data,\n",
        "                        'original_' + str(i) +'.png', nrow=n)\n",
        "\n",
        "\n",
        "  test_loss /= len(test_loader.dataset)\n",
        "  print('====> Test set loss: {:.4f}'.format(test_loss))\n",
        "\n",
        "save_images()"
      ]
    },
    {
      "cell_type": "code",
      "execution_count": null,
      "metadata": {
        "colab": {},
        "colab_type": "code",
        "id": "Q4jniD80b0gN"
      },
      "outputs": [],
      "source": []
    }
  ],
  "metadata": {
    "accelerator": "GPU",
    "colab": {
      "collapsed_sections": [],
      "include_colab_link": true,
      "name": "imagenet_end_to_end_image_compression.ipynb",
      "provenance": [],
      "toc_visible": true,
      "version": "0.3.2"
    },
    "kernelspec": {
      "display_name": "base",
      "language": "python",
      "name": "python3"
    },
    "language_info": {
      "codemirror_mode": {
        "name": "ipython",
        "version": 3
      },
      "file_extension": ".py",
      "mimetype": "text/x-python",
      "name": "python",
      "nbconvert_exporter": "python",
      "pygments_lexer": "ipython3",
      "version": "3.7.4"
    },
    "vscode": {
      "interpreter": {
        "hash": "815a89dea800023498108851e18adb7e68d118d9669d858f2aeb2020be76da9d"
      }
    }
  },
  "nbformat": 4,
  "nbformat_minor": 0
}
